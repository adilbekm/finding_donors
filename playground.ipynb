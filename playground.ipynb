{
 "cells": [
  {
   "cell_type": "markdown",
   "metadata": {},
   "source": [
    "## Numpy and Pandas ##\n",
    "\n",
    "This is my playground notebook for learning numpy and pandas.\n",
    "\n",
    "I will be using numpy's [documentation](https://docs.scipy.org/doc/numpy/user/quickstart.html)."
   ]
  },
  {
   "cell_type": "markdown",
   "metadata": {},
   "source": [
    "First, we need to load the libraries:"
   ]
  },
  {
   "cell_type": "code",
   "execution_count": 4,
   "metadata": {},
   "outputs": [],
   "source": [
    "# Load libraries\n",
    "\n",
    "import numpy as np\n",
    "import pandas as pd\n",
    "from IPython.display import display # Allows to use display() for DataFrames\n",
    "\n",
    "# For pretty display for notebooks (I don't know what exactly this means, though):\n",
    "%matplotlib inline"
   ]
  },
  {
   "cell_type": "markdown",
   "metadata": {},
   "source": [
    "Now, let's create some numpy arrays:"
   ]
  },
  {
   "cell_type": "code",
   "execution_count": 129,
   "metadata": {},
   "outputs": [
    {
     "name": "stdout",
     "output_type": "stream",
     "text": [
      "The shape of array \"a\": (3,)\n",
      "The content of array \"a\":\n",
      "[1 2 3]\n",
      "The shape of array \"b\": (3, 2)\n",
      "The content of array \"b\":\n",
      "[[1 2]\n",
      " [3 4]\n",
      " [4 5]]\n",
      "The shape of array \"c\": (2, 3, 2)\n",
      "The size of array \"c\": 12\n",
      "The content of array \"c\":\n",
      "[[[0. 0.]\n",
      "  [0. 0.]\n",
      "  [0. 0.]]\n",
      "\n",
      " [[0. 0.]\n",
      "  [0. 0.]\n",
      "  [0. 0.]]]\n",
      "The content of array \"d\":\n",
      "[[1 1 1]\n",
      " [1 1 1]\n",
      " [1 1 1]]\n",
      "The content of array \"e\": [0 1 2 3 4]\n",
      "The content of array \"f\": [1 3 5 7]\n"
     ]
    }
   ],
   "source": [
    "# Create numpy arrays\n",
    "\n",
    "# creating a simple (1-dimensional) numpy array from a python list\n",
    "# note, the shape attribute displays the lenth of each dimension/axes\n",
    "a = np.array([1,2,3])\n",
    "print('The shape of array \"a\":', a.shape)\n",
    "print('The content of array \"a\":')\n",
    "print(a)\n",
    "\n",
    "# creating a 2-dimensional (2-axes) numpy array from a python list of lists\n",
    "# note that b has 2 axis - the fist has a length of 3, the second has a length of 2\n",
    "b = np.array([[1,2],[3,4],[4,5]])\n",
    "print('The shape of array \"b\":', b.shape)\n",
    "print('The content of array \"b\":')\n",
    "print(b)\n",
    "\n",
    "# creating numpy array using numpy's zeros() function\n",
    "# note, the by default the dtype of the array is float64\n",
    "# note, the size attribute shows the total number of elements in the array \n",
    "c = np.zeros( (2,3,2) )\n",
    "print('The shape of array \"c\":', c.shape)\n",
    "print('The size of array \"c\":', c.size)\n",
    "print('The content of array \"c\":') \n",
    "print(c)\n",
    "\n",
    "# creating numpy array using numpy's ones() function\n",
    "# note, we can explicitly specify the dtype\n",
    "d = np.ones( (3,3), dtype=np.int64 )\n",
    "print('The content of array \"d\":') \n",
    "print(d)\n",
    "\n",
    "# creating numpy array using numpy's arange() function, which works just like Python's range() function\n",
    "e = np.arange(5)\n",
    "f = np.arange(1,8,2)\n",
    "print('The content of array \"e\":', e)\n",
    "print('The content of array \"f\":', f)\n"
   ]
  },
  {
   "cell_type": "markdown",
   "metadata": {},
   "source": [
    "Here is how to perform basic operations on numpy arrays:"
   ]
  },
  {
   "cell_type": "code",
   "execution_count": 57,
   "metadata": {},
   "outputs": [
    {
     "name": "stdout",
     "output_type": "stream",
     "text": [
      "The content of array \"a\": [0 1 2 3 4]\n",
      "The content of array \"b\": [3 4 5 6 7]\n",
      "The content of array \"c\": [4 5 6 7 8]\n"
     ]
    }
   ],
   "source": [
    "# Arithmetic operators on arrays apply elementwise\n",
    "\n",
    "a = np.arange(5)\n",
    "print('The content of array \"a\":', a)\n",
    "\n",
    "b = a + 3\n",
    "print('The content of array \"b\":', b)\n",
    "\n",
    "ones = np.ones((5),dtype=np.int64)\n",
    "c = b + ones # equivalent to c = b + 1\n",
    "print('The content of array \"c\":', c)"
   ]
  },
  {
   "cell_type": "markdown",
   "metadata": {},
   "source": [
    "** Pandas **\n",
    "\n",
    "Now, let's learn Pandas. Very simply, pandas is about 2 data sctuctures: series and dataframes. \n",
    "\n",
    "A series is almost the same as a numpy array, which is basically a list holding stuff of a single data type. A panda series additionally comes with an index, or labels, which can be customized. By default, the index is a 0-based list of integers. \n",
    "\n",
    "Here is how we create a Series object:"
   ]
  },
  {
   "cell_type": "code",
   "execution_count": 64,
   "metadata": {},
   "outputs": [
    {
     "name": "stdout",
     "output_type": "stream",
     "text": [
      "Example with default indexes:\n",
      "0    1.0\n",
      "1    1.0\n",
      "2    1.0\n",
      "3    1.0\n",
      "4    1.0\n",
      "dtype: float64\n",
      "\n",
      "Example with custom indexes:\n",
      "a    1.0\n",
      "b    1.0\n",
      "c    1.0\n",
      "d    1.0\n",
      "e    1.0\n",
      "dtype: float64\n"
     ]
    }
   ],
   "source": [
    "# Creating series in pandas\n",
    "\n",
    "# The basic way to create a series is with the following method (index is optional):\n",
    "# s = pd.Series(data, index=index)\n",
    "# data can be anything that is list-like or dictionary-like, but most typically we pass a numpy array\n",
    "\n",
    "a = np.ones( 5 )\n",
    "b = pd.Series(data=a)\n",
    "print('Example with default indexes:')\n",
    "print(b)\n",
    "c = pd.Series(data=a, index=['a', 'b', 'c', 'd', 'e'])\n",
    "print('\\nExample with custom indexes:')\n",
    "print(c)\n",
    "\n",
    "# panda's dataframe can be created from many things, but the most typical way is from a numpy array.\n",
    "# in fact, a dataframe is like a numpy array except each dimension \n",
    "# df = pd.DataFrame(data)"
   ]
  },
  {
   "cell_type": "markdown",
   "metadata": {},
   "source": [
    "Now to **dataframes**, panda's most important object.\n",
    "\n",
    "A dataframe is just a collection of Series objects. The data types of Series objects doesn't have to be the same. This is an important point because if they had to be of the same data type then dataframes wouldn't be much different from multi-dimensional numpy arrays. It is this flexibility with data types along with the presence of indexes (on both axes) that makes dataframes more flexible than numpy arrays.\n",
    "\n",
    "Here is how we create data frames:"
   ]
  },
  {
   "cell_type": "code",
   "execution_count": 130,
   "metadata": {},
   "outputs": [
    {
     "data": {
      "text/plain": [
       "row1    0.0\n",
       "row2    0.0\n",
       "row3    0.0\n",
       "row4    0.0\n",
       "row5    0.0\n",
       "dtype: float64"
      ]
     },
     "metadata": {},
     "output_type": "display_data"
    },
    {
     "data": {
      "text/plain": [
       "row1    1.0\n",
       "row2    1.0\n",
       "row3    1.0\n",
       "row4    1.0\n",
       "row5    1.0\n",
       "dtype: float64"
      ]
     },
     "metadata": {},
     "output_type": "display_data"
    },
    {
     "data": {
      "text/html": [
       "<div>\n",
       "<style scoped>\n",
       "    .dataframe tbody tr th:only-of-type {\n",
       "        vertical-align: middle;\n",
       "    }\n",
       "\n",
       "    .dataframe tbody tr th {\n",
       "        vertical-align: top;\n",
       "    }\n",
       "\n",
       "    .dataframe thead th {\n",
       "        text-align: right;\n",
       "    }\n",
       "</style>\n",
       "<table border=\"1\" class=\"dataframe\">\n",
       "  <thead>\n",
       "    <tr style=\"text-align: right;\">\n",
       "      <th></th>\n",
       "      <th>column-ones</th>\n",
       "      <th>column-zeros</th>\n",
       "    </tr>\n",
       "  </thead>\n",
       "  <tbody>\n",
       "    <tr>\n",
       "      <th>row1</th>\n",
       "      <td>1.0</td>\n",
       "      <td>0.0</td>\n",
       "    </tr>\n",
       "    <tr>\n",
       "      <th>row2</th>\n",
       "      <td>1.0</td>\n",
       "      <td>0.0</td>\n",
       "    </tr>\n",
       "    <tr>\n",
       "      <th>row3</th>\n",
       "      <td>1.0</td>\n",
       "      <td>0.0</td>\n",
       "    </tr>\n",
       "    <tr>\n",
       "      <th>row4</th>\n",
       "      <td>1.0</td>\n",
       "      <td>0.0</td>\n",
       "    </tr>\n",
       "    <tr>\n",
       "      <th>row5</th>\n",
       "      <td>1.0</td>\n",
       "      <td>0.0</td>\n",
       "    </tr>\n",
       "  </tbody>\n",
       "</table>\n",
       "</div>"
      ],
      "text/plain": [
       "      column-ones  column-zeros\n",
       "row1          1.0           0.0\n",
       "row2          1.0           0.0\n",
       "row3          1.0           0.0\n",
       "row4          1.0           0.0\n",
       "row5          1.0           0.0"
      ]
     },
     "metadata": {},
     "output_type": "display_data"
    }
   ],
   "source": [
    "a = np.zeros(5)\n",
    "a = pd.Series(a, index=['row1','row2','row3','row4','row5'])\n",
    "\n",
    "b = np.ones(5)\n",
    "b = pd.Series(b, index=['row1','row2','row3','row4','row5',])\n",
    "\n",
    "display(a)\n",
    "display(b)\n",
    "\n",
    "df = pd.DataFrame(data={'column-zeros': a, 'column-ones': b})\n",
    "display(df)"
   ]
  },
  {
   "cell_type": "code",
   "execution_count": 133,
   "metadata": {},
   "outputs": [
    {
     "data": {
      "text/plain": [
       "column-ones     float64\n",
       "column-zeros    float64\n",
       "dtype: object"
      ]
     },
     "metadata": {},
     "output_type": "display_data"
    },
    {
     "data": {
      "text/plain": [
       "dtype('float64')"
      ]
     },
     "metadata": {},
     "output_type": "display_data"
    }
   ],
   "source": [
    "# check data types (dtypes) of the columns\n",
    "display(df.dtypes)\n",
    "\n",
    "# check dtype of a single column\n",
    "display(df['column-zeros'].dtype)"
   ]
  },
  {
   "cell_type": "code",
   "execution_count": 134,
   "metadata": {},
   "outputs": [
    {
     "data": {
      "text/html": [
       "<div>\n",
       "<style scoped>\n",
       "    .dataframe tbody tr th:only-of-type {\n",
       "        vertical-align: middle;\n",
       "    }\n",
       "\n",
       "    .dataframe tbody tr th {\n",
       "        vertical-align: top;\n",
       "    }\n",
       "\n",
       "    .dataframe thead th {\n",
       "        text-align: right;\n",
       "    }\n",
       "</style>\n",
       "<table border=\"1\" class=\"dataframe\">\n",
       "  <thead>\n",
       "    <tr style=\"text-align: right;\">\n",
       "      <th></th>\n",
       "      <th>age</th>\n",
       "      <th>workclass</th>\n",
       "      <th>education_level</th>\n",
       "      <th>education-num</th>\n",
       "      <th>marital-status</th>\n",
       "      <th>occupation</th>\n",
       "      <th>relationship</th>\n",
       "      <th>race</th>\n",
       "      <th>sex</th>\n",
       "      <th>capital-gain</th>\n",
       "      <th>capital-loss</th>\n",
       "      <th>hours-per-week</th>\n",
       "      <th>native-country</th>\n",
       "      <th>income</th>\n",
       "    </tr>\n",
       "  </thead>\n",
       "  <tbody>\n",
       "    <tr>\n",
       "      <th>0</th>\n",
       "      <td>39</td>\n",
       "      <td>State-gov</td>\n",
       "      <td>Bachelors</td>\n",
       "      <td>13.0</td>\n",
       "      <td>Never-married</td>\n",
       "      <td>Adm-clerical</td>\n",
       "      <td>Not-in-family</td>\n",
       "      <td>White</td>\n",
       "      <td>Male</td>\n",
       "      <td>2174.0</td>\n",
       "      <td>0.0</td>\n",
       "      <td>40.0</td>\n",
       "      <td>United-States</td>\n",
       "      <td>&lt;=50K</td>\n",
       "    </tr>\n",
       "    <tr>\n",
       "      <th>1</th>\n",
       "      <td>50</td>\n",
       "      <td>Self-emp-not-inc</td>\n",
       "      <td>Bachelors</td>\n",
       "      <td>13.0</td>\n",
       "      <td>Married-civ-spouse</td>\n",
       "      <td>Exec-managerial</td>\n",
       "      <td>Husband</td>\n",
       "      <td>White</td>\n",
       "      <td>Male</td>\n",
       "      <td>0.0</td>\n",
       "      <td>0.0</td>\n",
       "      <td>13.0</td>\n",
       "      <td>United-States</td>\n",
       "      <td>&lt;=50K</td>\n",
       "    </tr>\n",
       "    <tr>\n",
       "      <th>2</th>\n",
       "      <td>38</td>\n",
       "      <td>Private</td>\n",
       "      <td>HS-grad</td>\n",
       "      <td>9.0</td>\n",
       "      <td>Divorced</td>\n",
       "      <td>Handlers-cleaners</td>\n",
       "      <td>Not-in-family</td>\n",
       "      <td>White</td>\n",
       "      <td>Male</td>\n",
       "      <td>0.0</td>\n",
       "      <td>0.0</td>\n",
       "      <td>40.0</td>\n",
       "      <td>United-States</td>\n",
       "      <td>&lt;=50K</td>\n",
       "    </tr>\n",
       "    <tr>\n",
       "      <th>3</th>\n",
       "      <td>53</td>\n",
       "      <td>Private</td>\n",
       "      <td>11th</td>\n",
       "      <td>7.0</td>\n",
       "      <td>Married-civ-spouse</td>\n",
       "      <td>Handlers-cleaners</td>\n",
       "      <td>Husband</td>\n",
       "      <td>Black</td>\n",
       "      <td>Male</td>\n",
       "      <td>0.0</td>\n",
       "      <td>0.0</td>\n",
       "      <td>40.0</td>\n",
       "      <td>United-States</td>\n",
       "      <td>&lt;=50K</td>\n",
       "    </tr>\n",
       "    <tr>\n",
       "      <th>4</th>\n",
       "      <td>28</td>\n",
       "      <td>Private</td>\n",
       "      <td>Bachelors</td>\n",
       "      <td>13.0</td>\n",
       "      <td>Married-civ-spouse</td>\n",
       "      <td>Prof-specialty</td>\n",
       "      <td>Wife</td>\n",
       "      <td>Black</td>\n",
       "      <td>Female</td>\n",
       "      <td>0.0</td>\n",
       "      <td>0.0</td>\n",
       "      <td>40.0</td>\n",
       "      <td>Cuba</td>\n",
       "      <td>&lt;=50K</td>\n",
       "    </tr>\n",
       "  </tbody>\n",
       "</table>\n",
       "</div>"
      ],
      "text/plain": [
       "   age          workclass education_level  education-num       marital-status  \\\n",
       "0   39          State-gov       Bachelors           13.0        Never-married   \n",
       "1   50   Self-emp-not-inc       Bachelors           13.0   Married-civ-spouse   \n",
       "2   38            Private         HS-grad            9.0             Divorced   \n",
       "3   53            Private            11th            7.0   Married-civ-spouse   \n",
       "4   28            Private       Bachelors           13.0   Married-civ-spouse   \n",
       "\n",
       "           occupation    relationship    race      sex  capital-gain  \\\n",
       "0        Adm-clerical   Not-in-family   White     Male        2174.0   \n",
       "1     Exec-managerial         Husband   White     Male           0.0   \n",
       "2   Handlers-cleaners   Not-in-family   White     Male           0.0   \n",
       "3   Handlers-cleaners         Husband   Black     Male           0.0   \n",
       "4      Prof-specialty            Wife   Black   Female           0.0   \n",
       "\n",
       "   capital-loss  hours-per-week  native-country income  \n",
       "0           0.0            40.0   United-States  <=50K  \n",
       "1           0.0            13.0   United-States  <=50K  \n",
       "2           0.0            40.0   United-States  <=50K  \n",
       "3           0.0            40.0   United-States  <=50K  \n",
       "4           0.0            40.0            Cuba  <=50K  "
      ]
     },
     "metadata": {},
     "output_type": "display_data"
    }
   ],
   "source": [
    "# let's load a real data set\n",
    "df = pd.read_csv('census.csv')\n",
    "display(df.head())"
   ]
  },
  {
   "cell_type": "code",
   "execution_count": 121,
   "metadata": {},
   "outputs": [
    {
     "data": {
      "text/plain": [
       "age                  int64\n",
       "workclass           object\n",
       "education_level     object\n",
       "education-num      float64\n",
       "marital-status      object\n",
       "occupation          object\n",
       "relationship        object\n",
       "race                object\n",
       "sex                 object\n",
       "capital-gain       float64\n",
       "capital-loss       float64\n",
       "hours-per-week     float64\n",
       "native-country      object\n",
       "income              object\n",
       "dtype: object"
      ]
     },
     "metadata": {},
     "output_type": "display_data"
    },
    {
     "data": {
      "text/plain": [
       "(45222, 14)"
      ]
     },
     "metadata": {},
     "output_type": "display_data"
    },
    {
     "data": {
      "text/plain": [
       "Index(['age', 'workclass', 'education_level', 'education-num',\n",
       "       'marital-status', 'occupation', 'relationship', 'race', 'sex',\n",
       "       'capital-gain', 'capital-loss', 'hours-per-week', 'native-country',\n",
       "       'income'],\n",
       "      dtype='object')"
      ]
     },
     "metadata": {},
     "output_type": "display_data"
    }
   ],
   "source": [
    "display(df.dtypes)\n",
    "display(df.shape)\n",
    "display(df.columns)"
   ]
  },
  {
   "cell_type": "code",
   "execution_count": 136,
   "metadata": {},
   "outputs": [
    {
     "name": "stdout",
     "output_type": "stream",
     "text": [
      "min: 1.0\n",
      "max: 16.0\n",
      "number of distinct values: 16\n",
      "distinct values: {1.0, 2.0, 3.0, 4.0, 5.0, 6.0, 7.0, 8.0, 9.0, 10.0, 11.0, 12.0, 13.0, 14.0, 15.0, 16.0}\n"
     ]
    },
    {
     "data": {
      "text/plain": [
       "9.0     14783\n",
       "10.0     9899\n",
       "13.0     7570\n",
       "14.0     2514\n",
       "11.0     1959\n",
       "7.0      1619\n",
       "12.0     1507\n",
       "6.0      1223\n",
       "4.0       823\n",
       "15.0      785\n",
       "5.0       676\n",
       "8.0       577\n",
       "16.0      544\n",
       "3.0       449\n",
       "2.0       222\n",
       "1.0        72\n",
       "Name: education-num, dtype: int64"
      ]
     },
     "execution_count": 136,
     "metadata": {},
     "output_type": "execute_result"
    }
   ],
   "source": [
    "# explore education-num\n",
    "\n",
    "print('min:', df['education-num'].min())\n",
    "print('max:', df['education-num'].max())\n",
    "\n",
    "distinct_values = set(df['education-num'].values)\n",
    "print('number of distinct values:', len(distinct_values))\n",
    "print('distinct values:', distinct_values)\n",
    "\n",
    "df['education-num'].value_counts() # this is potentially a very useful method"
   ]
  },
  {
   "cell_type": "code",
   "execution_count": 138,
   "metadata": {},
   "outputs": [
    {
     "data": {
      "text/plain": [
       " Private             33307\n",
       " Self-emp-not-inc     3796\n",
       " Local-gov            3100\n",
       " State-gov            1946\n",
       " Self-emp-inc         1646\n",
       " Federal-gov          1406\n",
       " Without-pay            21\n",
       "Name: workclass, dtype: int64"
      ]
     },
     "execution_count": 138,
     "metadata": {},
     "output_type": "execute_result"
    }
   ],
   "source": [
    "df['workclass'].describe()\n",
    "df['workclass'].value_counts()"
   ]
  },
  {
   "cell_type": "code",
   "execution_count": 108,
   "metadata": {},
   "outputs": [
    {
     "data": {
      "text/plain": [
       "0    (12.25, 16.0]\n",
       "1    (12.25, 16.0]\n",
       "2     (8.5, 12.25]\n",
       "3      (4.75, 8.5]\n",
       "4    (12.25, 16.0]\n",
       "5    (12.25, 16.0]\n",
       "Name: education-num, dtype: category\n",
       "Categories (4, interval[float64]): [(0.985, 4.75] < (4.75, 8.5] < (8.5, 12.25] < (12.25, 16.0]]"
      ]
     },
     "execution_count": 108,
     "metadata": {},
     "output_type": "execute_result"
    }
   ],
   "source": [
    "edu_ranges = pd.cut(df['education-num'], 4)\n",
    "edu_ranges[:6]"
   ]
  },
  {
   "cell_type": "code",
   "execution_count": 126,
   "metadata": {},
   "outputs": [
    {
     "data": {
      "text/plain": [
       " HS-grad         14783\n",
       " Some-college     9899\n",
       " Bachelors        7570\n",
       " Masters          2514\n",
       " Assoc-voc        1959\n",
       " 11th             1619\n",
       " Assoc-acdm       1507\n",
       " 10th             1223\n",
       " 7th-8th           823\n",
       " Prof-school       785\n",
       " 9th               676\n",
       " 12th              577\n",
       " Doctorate         544\n",
       " 5th-6th           449\n",
       " 1st-4th           222\n",
       " Preschool          72\n",
       "Name: education_level, dtype: int64"
      ]
     },
     "metadata": {},
     "output_type": "display_data"
    },
    {
     "data": {
      "text/plain": [
       "{1.0,\n",
       " 2.0,\n",
       " 3.0,\n",
       " 4.0,\n",
       " 5.0,\n",
       " 6.0,\n",
       " 7.0,\n",
       " 8.0,\n",
       " 9.0,\n",
       " 10.0,\n",
       " 11.0,\n",
       " 12.0,\n",
       " 13.0,\n",
       " 14.0,\n",
       " 15.0,\n",
       " 16.0}"
      ]
     },
     "metadata": {},
     "output_type": "display_data"
    }
   ],
   "source": [
    "# explore education_level\n",
    "display(df.education_level.value_counts())\n",
    "\n",
    "# one way to get distinct values\n",
    "display(set(df['education-num'].values))"
   ]
  },
  {
   "cell_type": "code",
   "execution_count": 139,
   "metadata": {},
   "outputs": [
    {
     "data": {
      "text/plain": [
       "array([' White', ' Black', ' Asian-Pac-Islander', ' Amer-Indian-Eskimo',\n",
       "       ' Other'], dtype=object)"
      ]
     },
     "metadata": {},
     "output_type": "display_data"
    }
   ],
   "source": [
    "# a better way to get distinct values\n",
    "display(df.race.unique())"
   ]
  },
  {
   "cell_type": "code",
   "execution_count": 143,
   "metadata": {},
   "outputs": [
    {
     "data": {
      "image/png": "[encoded data removed]",
      "text/plain": [
       "<Figure size 432x288 with 1 Axes>"
      ]
     },
     "metadata": {},
     "output_type": "display_data"
    }
   ],
   "source": [
    "import matplotlib.pyplot as plt\n",
    "plt.plot([1, 2, 3, 4], [10, 15, 30, 40])\n",
    "plt.ylabel('some numbers')\n",
    "plt.show()"
   ]
  },
  {
   "cell_type": "code",
   "execution_count": null,
   "metadata": {},
   "outputs": [],
   "source": []
  }
 ],
 "metadata": {
  "kernelspec": {
   "display_name": "Python 3",
   "language": "python",
   "name": "python3"
  },
  "language_info": {
   "codemirror_mode": {
    "name": "ipython",
    "version": 3
   },
   "file_extension": ".py",
   "mimetype": "text/x-python",
   "name": "python",
   "nbconvert_exporter": "python",
   "pygments_lexer": "ipython3",
   "version": "3.5.2"
  }
 },
 "nbformat": 4,
 "nbformat_minor": 2
}
